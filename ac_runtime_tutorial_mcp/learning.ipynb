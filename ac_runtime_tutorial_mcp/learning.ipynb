{
 "cells": [
  {
   "cell_type": "markdown",
   "id": "994a2527",
   "metadata": {},
   "source": [
    "## Creating MCP Server"
   ]
  },
  {
   "cell_type": "code",
   "execution_count": 1,
   "id": "ee1596b5",
   "metadata": {},
   "outputs": [
    {
     "name": "stdout",
     "output_type": "stream",
     "text": [
      "Writing mcp_server.py\n"
     ]
    }
   ],
   "source": [
    "%%writefile mcp_server.py\n",
    "from mcp.server.fastmcp import FastMCP\n",
    "from starlette.responses import JSONResponse\n",
    "\n",
    "mcp = FastMCP(host=\"0.0.0.0\", stateless_http=True)\n",
    "\n",
    "@mcp.tool()\n",
    "def add_numbers(a: int, b: int) -> int:\n",
    "    \"\"\"Add two numbers together\"\"\"\n",
    "    return a + b\n",
    "\n",
    "@mcp.tool()\n",
    "def multiply_numbers(a: int, b: int) -> int:\n",
    "    \"\"\"Multiply two numbers together\"\"\"\n",
    "    return a * b\n",
    "\n",
    "@mcp.tool()\n",
    "def greet_user(name: str) -> str:\n",
    "    \"\"\"Greet a user by name\"\"\"\n",
    "    return f\"Hello, {name}! Nice to meet you.\"\n",
    "\n",
    "if __name__ == \"__main__\":\n",
    "    mcp.run(transport=\"streamable-http\")"
   ]
  },
  {
   "cell_type": "markdown",
   "id": "19cf06c4",
   "metadata": {},
   "source": [
    "## Creating client to test locally"
   ]
  },
  {
   "cell_type": "code",
   "execution_count": 2,
   "id": "d2e5fb6f",
   "metadata": {},
   "outputs": [
    {
     "name": "stdout",
     "output_type": "stream",
     "text": [
      "Writing my_mcp_client.py\n"
     ]
    }
   ],
   "source": [
    "%%writefile my_mcp_client.py\n",
    "import asyncio\n",
    "from datetime import timedelta\n",
    "\n",
    "from mcp import ClientSession\n",
    "from mcp.client.streamable_http import streamablehttp_client\n",
    "\n",
    "async def main():\n",
    "    mcp_url = \"http://localhost:8000/mcp\"\n",
    "    headers = {}\n",
    "\n",
    "    async with streamablehttp_client(mcp_url, headers, timeout=timedelta(seconds=120), terminate_on_close=False) as (\n",
    "        read_stream,\n",
    "        write_stream,\n",
    "        _,\n",
    "    ):\n",
    "        async with ClientSession(read_stream, write_stream) as session:\n",
    "            await session.initialize()\n",
    "            tool_result = await session.list_tools()\n",
    "            print(\"Available tools:\")\n",
    "            for tool in tool_result.tools:\n",
    "                print(f\"  - {tool.name}: {tool.description}\")\n",
    "\n",
    "if __name__ == \"__main__\":\n",
    "    asyncio.run(main())"
   ]
  },
  {
   "cell_type": "markdown",
   "id": "2d503ad9",
   "metadata": {},
   "source": [
    "## Local testin"
   ]
  },
  {
   "cell_type": "code",
   "execution_count": 6,
   "id": "b121015d",
   "metadata": {},
   "outputs": [
    {
     "name": "stdout",
     "output_type": "stream",
     "text": [
      "Available tools:\n",
      "  - add_numbers: Add two numbers together\n",
      "  - multiply_numbers: Multiply two numbers together\n",
      "  - greet_user: Greet a user by name\n"
     ]
    }
   ],
   "source": [
    "# python mcp_server.py in CLI\n",
    "!python my_mcp_client.py"
   ]
  },
  {
   "cell_type": "markdown",
   "id": "4fb522ed",
   "metadata": {},
   "source": [
    "## Setting up Amazon Cognito for Authentication"
   ]
  },
  {
   "cell_type": "code",
   "execution_count": 12,
   "id": "82f99ee2",
   "metadata": {},
   "outputs": [
    {
     "name": "stdout",
     "output_type": "stream",
     "text": [
      "sys.path[0]: /Users/ykhvainitski/repos/bedrock-strands\n",
      "Setting up Amazon Cognito user pool...\n",
      "Pool id: us-east-1_awjGJtQxs\n",
      "Discovery URL: https://cognito-idp.us-east-1.amazonaws.com/us-east-1_awjGJtQxs/.well-known/openid-configuration\n",
      "Client ID: 6en4llrv22q7cdsqnat97d4175\n",
      "Bearer Token: eyJraWQiOiI2R2M5WjVaTzJ6Q0pFTlp1UiszSjNRUFI2YWFlQk5OZUJLMzMwY0RZV2xVPSIsImFsZyI6IlJTMjU2In0.eyJzdWIiOiI1NDY4MTRjOC1jMGIxLTcwOTYtNWM5Yy04YjZjMjIwYjUzYWYiLCJpc3MiOiJodHRwczpcL1wvY29nbml0by1pZHAudXMtZWFzdC0xLmFtYXpvbmF3cy5jb21cL3VzLWVhc3QtMV9hd2pHSnRReHMiLCJjbGllbnRfaWQiOiI2ZW40bGxydjIycTdjZHNxbmF0OTdkNDE3NSIsIm9yaWdpbl9qdGkiOiIwMjM5NGU0Yi1hNTg3LTQxNmItYTBhNi0xMDUwYTZmNWFiYjEiLCJldmVudF9pZCI6ImI4MjFkOGYyLWNiYjktNDcwNi05NjE0LTlkYWE5YmY5MmIwZSIsInRva2VuX3VzZSI6ImFjY2VzcyIsInNjb3BlIjoiYXdzLmNvZ25pdG8uc2lnbmluLnVzZXIuYWRtaW4iLCJhdXRoX3RpbWUiOjE3NTYzMDk1MjYsImV4cCI6MTc1NjMxMzEyNiwiaWF0IjoxNzU2MzA5NTI2LCJqdGkiOiIwMDVkNmRkOS03YzE5LTQwMWMtYjRjYy1kYzJlNzgyYmNkMTciLCJ1c2VybmFtZSI6InRlc3R1c2VyIn0.E7ObTVHF8cHJkqrw35cugKXZYhC1x2WvjPO18ienvquwpCO8_Fjiq0IrUK_C4yjfrOxA-4diGCoFwbCuHAuDktlt9JpE-spajQmkQb5gRTexeMhRPx7LzyA2eCnx9M2zR-HjX9IDEWODT_LEVqdvgPAPlWukcg-zuvrMY8u8Ua3qCzN4Q1D-tVQW_fvdkoRIu4TqGrZ_VwTxUQF6Oj3w519Oobqdxz_w5rTsK_MAem1bCLca1Cy-FBLSEZ-xBeFx7hIaVGA9NEesU_tNON0bZO7ym_AB0xtXEuGuUThJqlP8F4w1W8bTrl0aGLQrAKIDT_66SuohkIsCF8cm64GFag\n",
      "Cognito setup completed ✓\n",
      "User Pool ID: N/A\n",
      "Client ID: 6en4llrv22q7cdsqnat97d4175\n"
     ]
    }
   ],
   "source": [
    "import sys\n",
    "import os\n",
    "\n",
    "# Get the current notebook's directory\n",
    "current_dir = os.path.dirname(os.path.abspath('__file__' if '__file__' in globals() else '.'))\n",
    "\n",
    "# utils_dir = os.path.join(current_dir, '..')\n",
    "# utils_dir = os.path.abspath(utils_dir)\n",
    "\n",
    "# Add to sys.path\n",
    "# sys.path.insert(0, utils_dir)\n",
    "sys.path.insert(0, current_dir)\n",
    "print(\"sys.path[0]:\", sys.path[0])\n",
    "\n",
    "from utils import setup_cognito_user_pool\n",
    "print(\"Setting up Amazon Cognito user pool...\")\n",
    "cognito_config = setup_cognito_user_pool()\n",
    "print(\"Cognito setup completed ✓\")\n",
    "print(f\"User Pool ID: {cognito_config.get('user_pool_id', 'N/A')}\")\n",
    "print(f\"Client ID: {cognito_config.get('client_id', 'N/A')}\")"
   ]
  },
  {
   "cell_type": "markdown",
   "id": "abdeebaa",
   "metadata": {},
   "source": [
    "## Configuring AgentCore Runtime Deployment"
   ]
  },
  {
   "cell_type": "code",
   "execution_count": 13,
   "id": "b3b32eb4",
   "metadata": {},
   "outputs": [
    {
     "name": "stderr",
     "output_type": "stream",
     "text": [
      "Entrypoint parsed: file=/Users/ykhvainitski/repos/bedrock-strands/ac_runtime_tutorial_mcp/mcp_server.py, bedrock_agentcore_name=mcp_server\n",
      "Configuring BedrockAgentCore agent: mcp_server_agentcore\n"
     ]
    },
    {
     "name": "stdout",
     "output_type": "stream",
     "text": [
      "Using AWS region: us-east-1\n",
      "All required files found ✓\n",
      "Configuring AgentCore Runtime...\n"
     ]
    },
    {
     "name": "stderr",
     "output_type": "stream",
     "text": [
      "Generated .dockerignore\n",
      "Generated Dockerfile: /Users/ykhvainitski/repos/bedrock-strands/ac_runtime_tutorial_mcp/Dockerfile\n",
      "Generated .dockerignore: /Users/ykhvainitski/repos/bedrock-strands/ac_runtime_tutorial_mcp/.dockerignore\n",
      "Setting 'mcp_server_agentcore' as default agent\n",
      "Bedrock AgentCore configured: /Users/ykhvainitski/repos/bedrock-strands/ac_runtime_tutorial_mcp/.bedrock_agentcore.yaml\n"
     ]
    },
    {
     "name": "stdout",
     "output_type": "stream",
     "text": [
      "Configuration completed ✓\n"
     ]
    }
   ],
   "source": [
    "from bedrock_agentcore_starter_toolkit import Runtime\n",
    "from boto3.session import Session\n",
    "\n",
    "boto_session = Session()\n",
    "region = boto_session.region_name\n",
    "print(f\"Using AWS region: {region}\")\n",
    "\n",
    "required_files = ['mcp_server.py', 'requirements.txt']\n",
    "for file in required_files:\n",
    "    if not os.path.exists(file):\n",
    "        raise FileNotFoundError(f\"Required file {file} not found\")\n",
    "print(\"All required files found ✓\")\n",
    "\n",
    "agentcore_runtime = Runtime()\n",
    "\n",
    "auth_config = {\n",
    "    \"customJWTAuthorizer\": {\n",
    "        \"allowedClients\": [\n",
    "            cognito_config['client_id']\n",
    "        ],\n",
    "        \"discoveryUrl\": cognito_config['discovery_url'],\n",
    "    }\n",
    "}\n",
    "\n",
    "print(\"Configuring AgentCore Runtime...\")\n",
    "response = agentcore_runtime.configure(\n",
    "    entrypoint=\"mcp_server.py\",\n",
    "    auto_create_execution_role=True,\n",
    "    auto_create_ecr=True,\n",
    "    requirements_file=\"requirements.txt\",\n",
    "    region=region,\n",
    "    authorizer_configuration=auth_config,\n",
    "    protocol=\"MCP\",\n",
    "    agent_name=\"mcp_server_agentcore\"\n",
    ")\n",
    "print(\"Configuration completed ✓\")"
   ]
  },
  {
   "cell_type": "code",
   "execution_count": null,
   "id": "21846161",
   "metadata": {},
   "outputs": [],
   "source": []
  }
 ],
 "metadata": {
  "kernelspec": {
   "display_name": "venv",
   "language": "python",
   "name": "python3"
  },
  "language_info": {
   "codemirror_mode": {
    "name": "ipython",
    "version": 3
   },
   "file_extension": ".py",
   "mimetype": "text/x-python",
   "name": "python",
   "nbconvert_exporter": "python",
   "pygments_lexer": "ipython3",
   "version": "3.13.3"
  }
 },
 "nbformat": 4,
 "nbformat_minor": 5
}
