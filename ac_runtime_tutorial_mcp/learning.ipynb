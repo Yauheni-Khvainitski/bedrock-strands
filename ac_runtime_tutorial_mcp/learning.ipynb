{
 "cells": [
  {
   "cell_type": "markdown",
   "id": "994a2527",
   "metadata": {},
   "source": [
    "## Creating MCP Server"
   ]
  },
  {
   "cell_type": "code",
   "execution_count": 1,
   "id": "ee1596b5",
   "metadata": {},
   "outputs": [
    {
     "name": "stdout",
     "output_type": "stream",
     "text": [
      "Writing mcp_server.py\n"
     ]
    }
   ],
   "source": [
    "%%writefile mcp_server.py\n",
    "from mcp.server.fastmcp import FastMCP\n",
    "from starlette.responses import JSONResponse\n",
    "\n",
    "mcp = FastMCP(host=\"0.0.0.0\", stateless_http=True)\n",
    "\n",
    "@mcp.tool()\n",
    "def add_numbers(a: int, b: int) -> int:\n",
    "    \"\"\"Add two numbers together\"\"\"\n",
    "    return a + b\n",
    "\n",
    "@mcp.tool()\n",
    "def multiply_numbers(a: int, b: int) -> int:\n",
    "    \"\"\"Multiply two numbers together\"\"\"\n",
    "    return a * b\n",
    "\n",
    "@mcp.tool()\n",
    "def greet_user(name: str) -> str:\n",
    "    \"\"\"Greet a user by name\"\"\"\n",
    "    return f\"Hello, {name}! Nice to meet you.\"\n",
    "\n",
    "if __name__ == \"__main__\":\n",
    "    mcp.run(transport=\"streamable-http\")"
   ]
  },
  {
   "cell_type": "markdown",
   "id": "19cf06c4",
   "metadata": {},
   "source": [
    "## Creating client to test locally"
   ]
  },
  {
   "cell_type": "code",
   "execution_count": 2,
   "id": "d2e5fb6f",
   "metadata": {},
   "outputs": [
    {
     "name": "stdout",
     "output_type": "stream",
     "text": [
      "Writing my_mcp_client.py\n"
     ]
    }
   ],
   "source": [
    "%%writefile my_mcp_client.py\n",
    "import asyncio\n",
    "from datetime import timedelta\n",
    "\n",
    "from mcp import ClientSession\n",
    "from mcp.client.streamable_http import streamablehttp_client\n",
    "\n",
    "async def main():\n",
    "    mcp_url = \"http://localhost:8000/mcp\"\n",
    "    headers = {}\n",
    "\n",
    "    async with streamablehttp_client(mcp_url, headers, timeout=timedelta(seconds=120), terminate_on_close=False) as (\n",
    "        read_stream,\n",
    "        write_stream,\n",
    "        _,\n",
    "    ):\n",
    "        async with ClientSession(read_stream, write_stream) as session:\n",
    "            await session.initialize()\n",
    "            tool_result = await session.list_tools()\n",
    "            print(\"Available tools:\")\n",
    "            for tool in tool_result.tools:\n",
    "                print(f\"  - {tool.name}: {tool.description}\")\n",
    "\n",
    "if __name__ == \"__main__\":\n",
    "    asyncio.run(main())"
   ]
  },
  {
   "cell_type": "markdown",
   "id": "2d503ad9",
   "metadata": {},
   "source": [
    "## Local testin"
   ]
  },
  {
   "cell_type": "code",
   "execution_count": 6,
   "id": "b121015d",
   "metadata": {},
   "outputs": [
    {
     "name": "stdout",
     "output_type": "stream",
     "text": [
      "Available tools:\n",
      "  - add_numbers: Add two numbers together\n",
      "  - multiply_numbers: Multiply two numbers together\n",
      "  - greet_user: Greet a user by name\n"
     ]
    }
   ],
   "source": [
    "# python mcp_server.py in CLI\n",
    "!python my_mcp_client.py"
   ]
  },
  {
   "cell_type": "markdown",
   "id": "4fb522ed",
   "metadata": {},
   "source": [
    "## Setting up Amazon Cognito for Authentication"
   ]
  },
  {
   "cell_type": "code",
   "execution_count": 12,
   "id": "82f99ee2",
   "metadata": {},
   "outputs": [
    {
     "name": "stdout",
     "output_type": "stream",
     "text": [
      "sys.path[0]: /Users/ykhvainitski/repos/bedrock-strands\n",
      "Setting up Amazon Cognito user pool...\n",
      "Pool id: us-east-1_awjGJtQxs\n",
      "Discovery URL: https://cognito-idp.us-east-1.amazonaws.com/us-east-1_awjGJtQxs/.well-known/openid-configuration\n",
      "Client ID: 6en4llrv22q7cdsqnat97d4175\n",
      "Bearer Token: eyJraWQiOiI2R2M5WjVaTzJ6Q0pFTlp1UiszSjNRUFI2YWFlQk5OZUJLMzMwY0RZV2xVPSIsImFsZyI6IlJTMjU2In0.eyJzdWIiOiI1NDY4MTRjOC1jMGIxLTcwOTYtNWM5Yy04YjZjMjIwYjUzYWYiLCJpc3MiOiJodHRwczpcL1wvY29nbml0by1pZHAudXMtZWFzdC0xLmFtYXpvbmF3cy5jb21cL3VzLWVhc3QtMV9hd2pHSnRReHMiLCJjbGllbnRfaWQiOiI2ZW40bGxydjIycTdjZHNxbmF0OTdkNDE3NSIsIm9yaWdpbl9qdGkiOiIwMjM5NGU0Yi1hNTg3LTQxNmItYTBhNi0xMDUwYTZmNWFiYjEiLCJldmVudF9pZCI6ImI4MjFkOGYyLWNiYjktNDcwNi05NjE0LTlkYWE5YmY5MmIwZSIsInRva2VuX3VzZSI6ImFjY2VzcyIsInNjb3BlIjoiYXdzLmNvZ25pdG8uc2lnbmluLnVzZXIuYWRtaW4iLCJhdXRoX3RpbWUiOjE3NTYzMDk1MjYsImV4cCI6MTc1NjMxMzEyNiwiaWF0IjoxNzU2MzA5NTI2LCJqdGkiOiIwMDVkNmRkOS03YzE5LTQwMWMtYjRjYy1kYzJlNzgyYmNkMTciLCJ1c2VybmFtZSI6InRlc3R1c2VyIn0.E7ObTVHF8cHJkqrw35cugKXZYhC1x2WvjPO18ienvquwpCO8_Fjiq0IrUK_C4yjfrOxA-4diGCoFwbCuHAuDktlt9JpE-spajQmkQb5gRTexeMhRPx7LzyA2eCnx9M2zR-HjX9IDEWODT_LEVqdvgPAPlWukcg-zuvrMY8u8Ua3qCzN4Q1D-tVQW_fvdkoRIu4TqGrZ_VwTxUQF6Oj3w519Oobqdxz_w5rTsK_MAem1bCLca1Cy-FBLSEZ-xBeFx7hIaVGA9NEesU_tNON0bZO7ym_AB0xtXEuGuUThJqlP8F4w1W8bTrl0aGLQrAKIDT_66SuohkIsCF8cm64GFag\n",
      "Cognito setup completed ✓\n",
      "User Pool ID: N/A\n",
      "Client ID: 6en4llrv22q7cdsqnat97d4175\n"
     ]
    }
   ],
   "source": [
    "import sys\n",
    "import os\n",
    "\n",
    "# Get the current notebook's directory\n",
    "current_dir = os.path.dirname(os.path.abspath('__file__' if '__file__' in globals() else '.'))\n",
    "\n",
    "# utils_dir = os.path.join(current_dir, '..')\n",
    "# utils_dir = os.path.abspath(utils_dir)\n",
    "\n",
    "# Add to sys.path\n",
    "# sys.path.insert(0, utils_dir)\n",
    "sys.path.insert(0, current_dir)\n",
    "print(\"sys.path[0]:\", sys.path[0])\n",
    "\n",
    "from utils import setup_cognito_user_pool\n",
    "print(\"Setting up Amazon Cognito user pool...\")\n",
    "cognito_config = setup_cognito_user_pool()\n",
    "print(\"Cognito setup completed ✓\")\n",
    "print(f\"User Pool ID: {cognito_config.get('user_pool_id', 'N/A')}\")\n",
    "print(f\"Client ID: {cognito_config.get('client_id', 'N/A')}\")"
   ]
  },
  {
   "cell_type": "markdown",
   "id": "abdeebaa",
   "metadata": {},
   "source": [
    "## Configuring AgentCore Runtime Deployment"
   ]
  },
  {
   "cell_type": "code",
   "execution_count": 13,
   "id": "b3b32eb4",
   "metadata": {},
   "outputs": [
    {
     "name": "stderr",
     "output_type": "stream",
     "text": [
      "Entrypoint parsed: file=/Users/ykhvainitski/repos/bedrock-strands/ac_runtime_tutorial_mcp/mcp_server.py, bedrock_agentcore_name=mcp_server\n",
      "Configuring BedrockAgentCore agent: mcp_server_agentcore\n"
     ]
    },
    {
     "name": "stdout",
     "output_type": "stream",
     "text": [
      "Using AWS region: us-east-1\n",
      "All required files found ✓\n",
      "Configuring AgentCore Runtime...\n"
     ]
    },
    {
     "name": "stderr",
     "output_type": "stream",
     "text": [
      "Generated .dockerignore\n",
      "Generated Dockerfile: /Users/ykhvainitski/repos/bedrock-strands/ac_runtime_tutorial_mcp/Dockerfile\n",
      "Generated .dockerignore: /Users/ykhvainitski/repos/bedrock-strands/ac_runtime_tutorial_mcp/.dockerignore\n",
      "Setting 'mcp_server_agentcore' as default agent\n",
      "Bedrock AgentCore configured: /Users/ykhvainitski/repos/bedrock-strands/ac_runtime_tutorial_mcp/.bedrock_agentcore.yaml\n"
     ]
    },
    {
     "name": "stdout",
     "output_type": "stream",
     "text": [
      "Configuration completed ✓\n"
     ]
    }
   ],
   "source": [
    "from bedrock_agentcore_starter_toolkit import Runtime\n",
    "from boto3.session import Session\n",
    "\n",
    "boto_session = Session()\n",
    "region = boto_session.region_name\n",
    "print(f\"Using AWS region: {region}\")\n",
    "\n",
    "required_files = ['mcp_server.py', 'requirements.txt']\n",
    "for file in required_files:\n",
    "    if not os.path.exists(file):\n",
    "        raise FileNotFoundError(f\"Required file {file} not found\")\n",
    "print(\"All required files found ✓\")\n",
    "\n",
    "agentcore_runtime = Runtime()\n",
    "\n",
    "auth_config = {\n",
    "    \"customJWTAuthorizer\": {\n",
    "        \"allowedClients\": [\n",
    "            cognito_config['client_id']\n",
    "        ],\n",
    "        \"discoveryUrl\": cognito_config['discovery_url'],\n",
    "    }\n",
    "}\n",
    "\n",
    "print(\"Configuring AgentCore Runtime...\")\n",
    "response = agentcore_runtime.configure(\n",
    "    entrypoint=\"mcp_server.py\",\n",
    "    auto_create_execution_role=True,\n",
    "    auto_create_ecr=True,\n",
    "    requirements_file=\"requirements.txt\",\n",
    "    region=region,\n",
    "    authorizer_configuration=auth_config,\n",
    "    protocol=\"MCP\",\n",
    "    agent_name=\"mcp_server_agentcore\"\n",
    ")\n",
    "print(\"Configuration completed ✓\")"
   ]
  },
  {
   "cell_type": "markdown",
   "id": "4e9c1cc7",
   "metadata": {},
   "source": [
    "## Launching MCP Server to AgentCore Runtime"
   ]
  },
  {
   "cell_type": "code",
   "execution_count": 14,
   "id": "21846161",
   "metadata": {},
   "outputs": [
    {
     "name": "stderr",
     "output_type": "stream",
     "text": [
      "🚀 CodeBuild mode: building in cloud (RECOMMENDED - DEFAULT)\n",
      "   • Build ARM64 containers in the cloud with CodeBuild\n",
      "   • No local Docker required\n",
      "💡 Available deployment modes:\n",
      "   • runtime.launch()                           → CodeBuild (current)\n",
      "   • runtime.launch(local=True)                 → Local development\n",
      "   • runtime.launch(local_build=True)           → Local build + cloud deploy (NEW)\n",
      "Starting CodeBuild ARM64 deployment for agent 'mcp_server_agentcore' to account 538213298977 (us-east-1)\n",
      "Starting CodeBuild ARM64 deployment for agent 'mcp_server_agentcore' to account 538213298977 (us-east-1)\n",
      "Setting up AWS resources (ECR repository, execution roles)...\n",
      "Getting or creating ECR repository for agent: mcp_server_agentcore\n"
     ]
    },
    {
     "name": "stdout",
     "output_type": "stream",
     "text": [
      "Launching MCP server to AgentCore Runtime...\n",
      "This may take several minutes...\n",
      "Repository doesn't exist, creating new ECR repository: bedrock-agentcore-mcp_server_agentcore\n"
     ]
    },
    {
     "name": "stderr",
     "output_type": "stream",
     "text": [
      "✅ ECR repository available: 538213298977.dkr.ecr.us-east-1.amazonaws.com/bedrock-agentcore-mcp_server_agentcore\n",
      "Getting or creating execution role for agent: mcp_server_agentcore\n",
      "Using AWS region: us-east-1, account ID: 538213298977\n",
      "Role name: AmazonBedrockAgentCoreSDKRuntime-us-east-1-7f3ae149b4\n",
      "Role doesn't exist, creating new execution role: AmazonBedrockAgentCoreSDKRuntime-us-east-1-7f3ae149b4\n",
      "Starting execution role creation process for agent: mcp_server_agentcore\n",
      "✓ Role creating: AmazonBedrockAgentCoreSDKRuntime-us-east-1-7f3ae149b4\n",
      "Creating IAM role: AmazonBedrockAgentCoreSDKRuntime-us-east-1-7f3ae149b4\n",
      "✓ Role created: arn:aws:iam::538213298977:role/AmazonBedrockAgentCoreSDKRuntime-us-east-1-7f3ae149b4\n",
      "✓ Execution policy attached: BedrockAgentCoreRuntimeExecutionPolicy-mcp_server_agentcore\n",
      "Role creation complete and ready for use with Bedrock AgentCore\n",
      "✅ Execution role available: arn:aws:iam::538213298977:role/AmazonBedrockAgentCoreSDKRuntime-us-east-1-7f3ae149b4\n",
      "Preparing CodeBuild project and uploading source...\n",
      "Getting or creating CodeBuild execution role for agent: mcp_server_agentcore\n",
      "Role name: AmazonBedrockAgentCoreSDKCodeBuild-us-east-1-7f3ae149b4\n",
      "CodeBuild role doesn't exist, creating new role: AmazonBedrockAgentCoreSDKCodeBuild-us-east-1-7f3ae149b4\n",
      "Creating IAM role: AmazonBedrockAgentCoreSDKCodeBuild-us-east-1-7f3ae149b4\n",
      "✓ Role created: arn:aws:iam::538213298977:role/AmazonBedrockAgentCoreSDKCodeBuild-us-east-1-7f3ae149b4\n",
      "Attaching inline policy: CodeBuildExecutionPolicy to role: AmazonBedrockAgentCoreSDKCodeBuild-us-east-1-7f3ae149b4\n",
      "✓ Policy attached: CodeBuildExecutionPolicy\n",
      "Waiting for IAM role propagation...\n",
      "CodeBuild execution role creation complete: arn:aws:iam::538213298977:role/AmazonBedrockAgentCoreSDKCodeBuild-us-east-1-7f3ae149b4\n",
      "Using .dockerignore with 44 patterns\n",
      "Uploaded source to S3: mcp_server_agentcore/20250827-155014.zip\n",
      "Created CodeBuild project: bedrock-agentcore-mcp_server_agentcore-builder\n",
      "Starting CodeBuild build (this may take several minutes)...\n",
      "Starting CodeBuild monitoring...\n",
      "🔄 QUEUED started (total: 0s)\n",
      "✅ QUEUED completed in 5.2s\n",
      "🔄 PROVISIONING started (total: 5s)\n",
      "✅ PROVISIONING completed in 10.3s\n",
      "🔄 PRE_BUILD started (total: 16s)\n",
      "✅ PRE_BUILD completed in 10.3s\n",
      "🔄 BUILD started (total: 26s)\n",
      "✅ BUILD completed in 31.0s\n",
      "🔄 POST_BUILD started (total: 57s)\n",
      "✅ POST_BUILD completed in 5.2s\n",
      "🔄 COMPLETED started (total: 62s)\n",
      "✅ COMPLETED completed in 0.0s\n",
      "🎉 CodeBuild completed successfully in 1m 2s\n",
      "CodeBuild completed successfully\n",
      "✅ CodeBuild project configuration saved\n",
      "Deploying to Bedrock AgentCore...\n",
      "✅ Agent created/updated: arn:aws:bedrock-agentcore:us-east-1:538213298977:runtime/mcp_server_agentcore-YeR1XhFl9z\n",
      "Polling for endpoint to be ready...\n",
      "Agent endpoint: arn:aws:bedrock-agentcore:us-east-1:538213298977:runtime/mcp_server_agentcore-YeR1XhFl9z/runtime-endpoint/DEFAULT\n",
      "Deployment completed successfully - Agent: arn:aws:bedrock-agentcore:us-east-1:538213298977:runtime/mcp_server_agentcore-YeR1XhFl9z\n",
      "Built with CodeBuild: bedrock-agentcore-mcp_server_agentcore-builder:defcc755-90a0-4a66-8c8f-fd487b4da7f3\n",
      "Deployed to cloud: arn:aws:bedrock-agentcore:us-east-1:538213298977:runtime/mcp_server_agentcore-YeR1XhFl9z\n",
      "ECR image: 538213298977.dkr.ecr.us-east-1.amazonaws.com/bedrock-agentcore-mcp_server_agentcore\n",
      "🔍 Agent logs available at:\n",
      "   /aws/bedrock-agentcore/runtimes/mcp_server_agentcore-YeR1XhFl9z-DEFAULT\n",
      "   /aws/bedrock-agentcore/runtimes/mcp_server_agentcore-YeR1XhFl9z-DEFAULT/runtime-logs\n",
      "💡 Tail logs with: aws logs tail /aws/bedrock-agentcore/runtimes/mcp_server_agentcore-YeR1XhFl9z-DEFAULT --follow\n",
      "💡 Or view recent logs: aws logs tail /aws/bedrock-agentcore/runtimes/mcp_server_agentcore-YeR1XhFl9z-DEFAULT --since 1h\n"
     ]
    },
    {
     "name": "stdout",
     "output_type": "stream",
     "text": [
      "Launch completed ✓\n",
      "Agent ARN: arn:aws:bedrock-agentcore:us-east-1:538213298977:runtime/mcp_server_agentcore-YeR1XhFl9z\n",
      "Agent ID: mcp_server_agentcore-YeR1XhFl9z\n"
     ]
    }
   ],
   "source": [
    "print(\"Launching MCP server to AgentCore Runtime...\")\n",
    "print(\"This may take several minutes...\")\n",
    "launch_result = agentcore_runtime.launch()\n",
    "print(\"Launch completed ✓\")\n",
    "print(f\"Agent ARN: {launch_result.agent_arn}\")\n",
    "print(f\"Agent ID: {launch_result.agent_id}\")"
   ]
  },
  {
   "cell_type": "code",
   "execution_count": 15,
   "id": "991bf3b9",
   "metadata": {},
   "outputs": [
    {
     "name": "stdout",
     "output_type": "stream",
     "text": [
      "Checking AgentCore Runtime status...\n"
     ]
    },
    {
     "name": "stderr",
     "output_type": "stream",
     "text": [
      "Retrieved Bedrock AgentCore status for: mcp_server_agentcore\n"
     ]
    },
    {
     "name": "stdout",
     "output_type": "stream",
     "text": [
      "Initial status: READY\n",
      "✓ AgentCore Runtime is READY!\n",
      "Final status: READY\n"
     ]
    }
   ],
   "source": [
    "import time\n",
    "\n",
    "print(\"Checking AgentCore Runtime status...\")\n",
    "status_response = agentcore_runtime.status()\n",
    "status = status_response.endpoint['status']\n",
    "print(f\"Initial status: {status}\")\n",
    "\n",
    "end_status = ['READY', 'CREATE_FAILED', 'DELETE_FAILED', 'UPDATE_FAILED']\n",
    "while status not in end_status:\n",
    "    print(f\"Status: {status} - waiting...\")\n",
    "    time.sleep(10)\n",
    "    status_response = agentcore_runtime.status()\n",
    "    status = status_response.endpoint['status']\n",
    "\n",
    "if status == 'READY':\n",
    "    print(\"✓ AgentCore Runtime is READY!\")\n",
    "else:\n",
    "    print(f\"⚠ AgentCore Runtime status: {status}\")\n",
    "    \n",
    "print(f\"Final status: {status}\")"
   ]
  },
  {
   "cell_type": "markdown",
   "id": "d5ec2a2e",
   "metadata": {},
   "source": [
    "## Storing Configuration for Remote Access\n",
    "\n",
    "Before we can invoke our deployed MCP server, let's store the Agent ARN and Cognito configuration in AWS Systems Manager Parameter Store and AWS Secrets Manager for easy retrieval:"
   ]
  },
  {
   "cell_type": "code",
   "execution_count": 16,
   "id": "cbee1686",
   "metadata": {},
   "outputs": [
    {
     "name": "stdout",
     "output_type": "stream",
     "text": [
      "✓ Cognito credentials stored in Secrets Manager\n",
      "✓ Agent ARN stored in Parameter Store\n",
      "\n",
      "Configuration stored successfully!\n",
      "Agent ARN: arn:aws:bedrock-agentcore:us-east-1:538213298977:runtime/mcp_server_agentcore-YeR1XhFl9z\n"
     ]
    }
   ],
   "source": [
    "import boto3\n",
    "import json\n",
    "\n",
    "ssm_client = boto3.client('ssm', region_name=region)\n",
    "secrets_client = boto3.client('secretsmanager', region_name=region)\n",
    "\n",
    "try:\n",
    "    cognito_credentials_response = secrets_client.create_secret(\n",
    "        Name='mcp_server/cognito/credentials',\n",
    "        Description='Cognito credentials for MCP server',\n",
    "        SecretString=json.dumps(cognito_config)\n",
    "    )\n",
    "    print(\"✓ Cognito credentials stored in Secrets Manager\")\n",
    "except secrets_client.exceptions.ResourceExistsException:\n",
    "    secrets_client.update_secret(\n",
    "        SecretId='mcp_server/cognito/credentials',\n",
    "        SecretString=json.dumps(cognito_config)\n",
    "    )\n",
    "    print(\"✓ Cognito credentials updated in Secrets Manager\")\n",
    "\n",
    "agent_arn_response = ssm_client.put_parameter(\n",
    "    Name='/mcp_server/runtime/agent_arn',\n",
    "    Value=launch_result.agent_arn,\n",
    "    Type='String',\n",
    "    Description='Agent ARN for MCP server',\n",
    "    Overwrite=True\n",
    ")\n",
    "print(\"✓ Agent ARN stored in Parameter Store\")\n",
    "\n",
    "print(\"\\nConfiguration stored successfully!\")\n",
    "print(f\"Agent ARN: {launch_result.agent_arn}\")"
   ]
  },
  {
   "cell_type": "markdown",
   "id": "50fad5f6",
   "metadata": {},
   "source": [
    "## Creating Remote Testing Client"
   ]
  },
  {
   "cell_type": "code",
   "execution_count": 17,
   "id": "c26c7993",
   "metadata": {},
   "outputs": [
    {
     "name": "stdout",
     "output_type": "stream",
     "text": [
      "Writing my_mcp_client_remote.py\n"
     ]
    }
   ],
   "source": [
    "%%writefile my_mcp_client_remote.py\n",
    "import asyncio\n",
    "import boto3\n",
    "import json\n",
    "import sys\n",
    "from boto3.session import Session\n",
    "from datetime import timedelta\n",
    "\n",
    "from mcp import ClientSession\n",
    "from mcp.client.streamable_http import streamablehttp_client\n",
    "\n",
    "async def main():\n",
    "    boto_session = Session()\n",
    "    region = boto_session.region_name\n",
    "    \n",
    "    print(f\"Using AWS region: {region}\")\n",
    "    \n",
    "    try:\n",
    "        ssm_client = boto3.client('ssm', region_name=region)\n",
    "        agent_arn_response = ssm_client.get_parameter(Name='/mcp_server/runtime/agent_arn')\n",
    "        agent_arn = agent_arn_response['Parameter']['Value']\n",
    "        print(f\"Retrieved Agent ARN: {agent_arn}\")\n",
    "\n",
    "        secrets_client = boto3.client('secretsmanager', region_name=region)\n",
    "        response = secrets_client.get_secret_value(SecretId='mcp_server/cognito/credentials')\n",
    "        secret_value = response['SecretString']\n",
    "        parsed_secret = json.loads(secret_value)\n",
    "        bearer_token = parsed_secret['bearer_token']\n",
    "        print(\"✓ Retrieved bearer token from Secrets Manager\")\n",
    "        \n",
    "    except Exception as e:\n",
    "        print(f\"Error retrieving credentials: {e}\")\n",
    "        sys.exit(1)\n",
    "    \n",
    "    if not agent_arn or not bearer_token:\n",
    "        print(\"Error: AGENT_ARN or BEARER_TOKEN not retrieved properly\")\n",
    "        sys.exit(1)\n",
    "    \n",
    "    encoded_arn = agent_arn.replace(':', '%3A').replace('/', '%2F')\n",
    "    mcp_url = f\"https://bedrock-agentcore.{region}.amazonaws.com/runtimes/{encoded_arn}/invocations?qualifier=DEFAULT\"\n",
    "    headers = {\n",
    "        \"authorization\": f\"Bearer {bearer_token}\",\n",
    "        \"Content-Type\": \"application/json\"\n",
    "    }\n",
    "    \n",
    "    print(f\"\\nConnecting to: {mcp_url}\")\n",
    "    print(\"Headers configured ✓\")\n",
    "\n",
    "    try:\n",
    "        async with streamablehttp_client(mcp_url, headers, timeout=timedelta(seconds=120), terminate_on_close=False) as (\n",
    "            read_stream,\n",
    "            write_stream,\n",
    "            _,\n",
    "        ):\n",
    "            async with ClientSession(read_stream, write_stream) as session:\n",
    "                print(\"\\n🔄 Initializing MCP session...\")\n",
    "                await session.initialize()\n",
    "                print(\"✓ MCP session initialized\")\n",
    "                \n",
    "                print(\"\\n🔄 Listing available tools...\")\n",
    "                tool_result = await session.list_tools()\n",
    "                \n",
    "                print(\"\\n📋 Available MCP Tools:\")\n",
    "                print(\"=\" * 50)\n",
    "                for tool in tool_result.tools:\n",
    "                    print(f\"🔧 {tool.name}\")\n",
    "                    print(f\"   Description: {tool.description}\")\n",
    "                    if hasattr(tool, 'inputSchema') and tool.inputSchema:\n",
    "                        properties = tool.inputSchema.get('properties', {})\n",
    "                        if properties:\n",
    "                            print(f\"   Parameters: {list(properties.keys())}\")\n",
    "                    print()\n",
    "                \n",
    "                print(f\"✅ Successfully connected to MCP server!\")\n",
    "                print(f\"Found {len(tool_result.tools)} tools available.\")\n",
    "                \n",
    "    except Exception as e:\n",
    "        print(f\"❌ Error connecting to MCP server: {e}\")\n",
    "        sys.exit(1)\n",
    "\n",
    "if __name__ == \"__main__\":\n",
    "    asyncio.run(main())"
   ]
  },
  {
   "cell_type": "markdown",
   "id": "e8038b90",
   "metadata": {},
   "source": [
    "### Testing"
   ]
  },
  {
   "cell_type": "code",
   "execution_count": 18,
   "id": "3c738222",
   "metadata": {},
   "outputs": [
    {
     "name": "stdout",
     "output_type": "stream",
     "text": [
      "Testing deployed MCP server...\n",
      "==================================================\n",
      "Using AWS region: us-east-1\n",
      "Retrieved Agent ARN: arn:aws:bedrock-agentcore:us-east-1:538213298977:runtime/mcp_server_agentcore-YeR1XhFl9z\n",
      "✓ Retrieved bearer token from Secrets Manager\n",
      "\n",
      "Connecting to: https://bedrock-agentcore.us-east-1.amazonaws.com/runtimes/arn%3Aaws%3Abedrock-agentcore%3Aus-east-1%3A538213298977%3Aruntime%2Fmcp_server_agentcore-YeR1XhFl9z/invocations?qualifier=DEFAULT\n",
      "Headers configured ✓\n",
      "\n",
      "🔄 Initializing MCP session...\n",
      "✓ MCP session initialized\n",
      "\n",
      "🔄 Listing available tools...\n",
      "\n",
      "📋 Available MCP Tools:\n",
      "==================================================\n",
      "🔧 add_numbers\n",
      "   Description: Add two numbers together\n",
      "   Parameters: ['a', 'b']\n",
      "\n",
      "🔧 multiply_numbers\n",
      "   Description: Multiply two numbers together\n",
      "   Parameters: ['a', 'b']\n",
      "\n",
      "🔧 greet_user\n",
      "   Description: Greet a user by name\n",
      "   Parameters: ['name']\n",
      "\n",
      "✅ Successfully connected to MCP server!\n",
      "Found 3 tools available.\n"
     ]
    }
   ],
   "source": [
    "print(\"Testing deployed MCP server...\")\n",
    "print(\"=\" * 50)\n",
    "!python my_mcp_client_remote.py"
   ]
  },
  {
   "cell_type": "markdown",
   "id": "6d3e509a",
   "metadata": {},
   "source": [
    "## Invoking MCP Tools Remotely"
   ]
  },
  {
   "cell_type": "code",
   "execution_count": 19,
   "id": "e81cc445",
   "metadata": {},
   "outputs": [
    {
     "name": "stdout",
     "output_type": "stream",
     "text": [
      "Writing invoke_mcp_tools.py\n"
     ]
    }
   ],
   "source": [
    "%%writefile invoke_mcp_tools.py\n",
    "import asyncio\n",
    "import boto3\n",
    "import json\n",
    "import sys\n",
    "from boto3.session import Session\n",
    "from datetime import timedelta\n",
    "\n",
    "from mcp import ClientSession\n",
    "from mcp.client.streamable_http import streamablehttp_client\n",
    "\n",
    "async def main():\n",
    "    boto_session = Session()\n",
    "    region = boto_session.region_name\n",
    "    \n",
    "    print(f\"Using AWS region: {region}\")\n",
    "    \n",
    "    try:\n",
    "        ssm_client = boto3.client('ssm', region_name=region)\n",
    "        agent_arn_response = ssm_client.get_parameter(Name='/mcp_server/runtime/agent_arn')\n",
    "        agent_arn = agent_arn_response['Parameter']['Value']\n",
    "        print(f\"Retrieved Agent ARN: {agent_arn}\")\n",
    "\n",
    "        secrets_client = boto3.client('secretsmanager', region_name=region)\n",
    "        response = secrets_client.get_secret_value(SecretId='mcp_server/cognito/credentials')\n",
    "        secret_value = response['SecretString']\n",
    "        parsed_secret = json.loads(secret_value)\n",
    "        bearer_token = parsed_secret['bearer_token']\n",
    "        print(\"✓ Retrieved bearer token from Secrets Manager\")\n",
    "        \n",
    "    except Exception as e:\n",
    "        print(f\"Error retrieving credentials: {e}\")\n",
    "        sys.exit(1)\n",
    "    \n",
    "    encoded_arn = agent_arn.replace(':', '%3A').replace('/', '%2F')\n",
    "    mcp_url = f\"https://bedrock-agentcore.{region}.amazonaws.com/runtimes/{encoded_arn}/invocations?qualifier=DEFAULT\"\n",
    "    headers = {\n",
    "        \"authorization\": f\"Bearer {bearer_token}\",\n",
    "        \"Content-Type\": \"application/json\"\n",
    "    }\n",
    "    \n",
    "    print(f\"\\nConnecting to: {mcp_url}\")\n",
    "\n",
    "    try:\n",
    "        async with streamablehttp_client(mcp_url, headers, timeout=timedelta(seconds=120), terminate_on_close=False) as (\n",
    "            read_stream,\n",
    "            write_stream,\n",
    "            _,\n",
    "        ):\n",
    "            async with ClientSession(read_stream, write_stream) as session:\n",
    "                print(\"\\n🔄 Initializing MCP session...\")\n",
    "                await session.initialize()\n",
    "                print(\"✓ MCP session initialized\")\n",
    "                \n",
    "                print(\"\\n🔄 Listing available tools...\")\n",
    "                tool_result = await session.list_tools()\n",
    "                \n",
    "                print(\"\\n📋 Available MCP Tools:\")\n",
    "                print(\"=\" * 50)\n",
    "                for tool in tool_result.tools:\n",
    "                    print(f\"🔧 {tool.name}: {tool.description}\")\n",
    "                \n",
    "                print(\"\\n🧪 Testing MCP Tools:\")\n",
    "                print(\"=\" * 50)\n",
    "                \n",
    "                try:\n",
    "                    print(\"\\n➕ Testing add_numbers(5, 3)...\")\n",
    "                    add_result = await session.call_tool(\n",
    "                        name=\"add_numbers\",\n",
    "                        arguments={\"a\": 5, \"b\": 3}\n",
    "                    )\n",
    "                    print(f\"   Result: {add_result.content[0].text}\")\n",
    "                except Exception as e:\n",
    "                    print(f\"   Error: {e}\")\n",
    "                \n",
    "                try:\n",
    "                    print(\"\\n✖️  Testing multiply_numbers(4, 7)...\")\n",
    "                    multiply_result = await session.call_tool(\n",
    "                        name=\"multiply_numbers\",\n",
    "                        arguments={\"a\": 4, \"b\": 7}\n",
    "                    )\n",
    "                    print(f\"   Result: {multiply_result.content[0].text}\")\n",
    "                except Exception as e:\n",
    "                    print(f\"   Error: {e}\")\n",
    "                \n",
    "                try:\n",
    "                    print(\"\\n👋 Testing greet_user('Alice')...\")\n",
    "                    greet_result = await session.call_tool(\n",
    "                        name=\"greet_user\",\n",
    "                        arguments={\"name\": \"Alice\"}\n",
    "                    )\n",
    "                    print(f\"   Result: {greet_result.content[0].text}\")\n",
    "                except Exception as e:\n",
    "                    print(f\"   Error: {e}\")\n",
    "                \n",
    "                print(\"\\n✅ MCP tool testing completed!\")\n",
    "                \n",
    "    except Exception as e:\n",
    "        print(f\"❌ Error connecting to MCP server: {e}\")\n",
    "        sys.exit(1)\n",
    "\n",
    "if __name__ == \"__main__\":\n",
    "    asyncio.run(main())"
   ]
  },
  {
   "cell_type": "markdown",
   "id": "483ae2fa",
   "metadata": {},
   "source": [
    "### Testing"
   ]
  },
  {
   "cell_type": "code",
   "execution_count": 20,
   "id": "6211f69b",
   "metadata": {},
   "outputs": [
    {
     "name": "stdout",
     "output_type": "stream",
     "text": [
      "Testing MCP tool invocation...\n",
      "==================================================\n",
      "Using AWS region: us-east-1\n",
      "Retrieved Agent ARN: arn:aws:bedrock-agentcore:us-east-1:538213298977:runtime/mcp_server_agentcore-YeR1XhFl9z\n",
      "✓ Retrieved bearer token from Secrets Manager\n",
      "\n",
      "Connecting to: https://bedrock-agentcore.us-east-1.amazonaws.com/runtimes/arn%3Aaws%3Abedrock-agentcore%3Aus-east-1%3A538213298977%3Aruntime%2Fmcp_server_agentcore-YeR1XhFl9z/invocations?qualifier=DEFAULT\n",
      "\n",
      "🔄 Initializing MCP session...\n",
      "✓ MCP session initialized\n",
      "\n",
      "🔄 Listing available tools...\n",
      "\n",
      "📋 Available MCP Tools:\n",
      "==================================================\n",
      "🔧 add_numbers: Add two numbers together\n",
      "🔧 multiply_numbers: Multiply two numbers together\n",
      "🔧 greet_user: Greet a user by name\n",
      "\n",
      "🧪 Testing MCP Tools:\n",
      "==================================================\n",
      "\n",
      "➕ Testing add_numbers(5, 3)...\n",
      "   Result: 8\n",
      "\n",
      "✖️  Testing multiply_numbers(4, 7)...\n",
      "   Result: 28\n",
      "\n",
      "👋 Testing greet_user('Alice')...\n",
      "   Result: Hello, Alice! Nice to meet you.\n",
      "\n",
      "✅ MCP tool testing completed!\n"
     ]
    }
   ],
   "source": [
    "print(\"Testing MCP tool invocation...\")\n",
    "print(\"=\" * 50)\n",
    "!python invoke_mcp_tools.py"
   ]
  },
  {
   "cell_type": "markdown",
   "id": "57cbf44e",
   "metadata": {},
   "source": [
    "## Cleanup"
   ]
  },
  {
   "cell_type": "code",
   "execution_count": 21,
   "id": "8ce0bbe9",
   "metadata": {},
   "outputs": [
    {
     "name": "stdout",
     "output_type": "stream",
     "text": [
      "🗑️  Starting cleanup process...\n",
      "Deleting AgentCore Runtime...\n",
      "✓ AgentCore Runtime deletion initiated\n",
      "Deleting ECR repository...\n",
      "✓ ECR repository deleted\n",
      "✓ Parameter Store parameter deleted\n",
      "✓ Secrets Manager secret deleted\n",
      "\n",
      "✅ Cleanup completed successfully!\n"
     ]
    }
   ],
   "source": [
    "import boto3\n",
    "\n",
    "print(\"🗑️  Starting cleanup process...\")\n",
    "\n",
    "agentcore_control_client = boto3.client('bedrock-agentcore-control', region_name=region)\n",
    "ecr_client = boto3.client('ecr', region_name=region)\n",
    "ssm_client = boto3.client('ssm', region_name=region)\n",
    "secrets_client = boto3.client('secretsmanager', region_name=region)\n",
    "\n",
    "try:\n",
    "    print(\"Deleting AgentCore Runtime...\")\n",
    "    runtime_delete_response = agentcore_control_client.delete_agent_runtime(\n",
    "        agentRuntimeId=launch_result.agent_id,\n",
    "    )\n",
    "    print(\"✓ AgentCore Runtime deletion initiated\")\n",
    "\n",
    "    print(\"Deleting ECR repository...\")\n",
    "    ecr_repo_name = launch_result.ecr_uri.split('/')[1]\n",
    "    ecr_client.delete_repository(\n",
    "        repositoryName=ecr_repo_name,\n",
    "        force=True\n",
    "    )\n",
    "    print(\"✓ ECR repository deleted\")\n",
    "\n",
    "    try:\n",
    "        ssm_client.delete_parameter(Name='/mcp_server/runtime/agent_arn')\n",
    "        print(\"✓ Parameter Store parameter deleted\")\n",
    "    except ssm_client.exceptions.ParameterNotFound:\n",
    "        print(\"ℹ️  Parameter Store parameter not found\")\n",
    "    try:\n",
    "        secrets_client.delete_secret(\n",
    "            SecretId='mcp_server/cognito/credentials',\n",
    "            ForceDeleteWithoutRecovery=True\n",
    "        )\n",
    "        print(\"✓ Secrets Manager secret deleted\")\n",
    "    except secrets_client.exceptions.ResourceNotFoundException:\n",
    "        print(\"ℹ️  Secrets Manager secret not found\")\n",
    "\n",
    "    print(\"\\n✅ Cleanup completed successfully!\")\n",
    "    \n",
    "except Exception as e:\n",
    "    print(f\"❌ Error during cleanup: {e}\")\n",
    "    print(\"You may need to manually clean up some resources.\")"
   ]
  }
 ],
 "metadata": {
  "kernelspec": {
   "display_name": "venv",
   "language": "python",
   "name": "python3"
  },
  "language_info": {
   "codemirror_mode": {
    "name": "ipython",
    "version": 3
   },
   "file_extension": ".py",
   "mimetype": "text/x-python",
   "name": "python",
   "nbconvert_exporter": "python",
   "pygments_lexer": "ipython3",
   "version": "3.13.3"
  }
 },
 "nbformat": 4,
 "nbformat_minor": 5
}
