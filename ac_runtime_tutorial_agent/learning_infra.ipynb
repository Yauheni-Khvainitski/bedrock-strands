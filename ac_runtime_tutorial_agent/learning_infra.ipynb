{
 "cells": [
  {
   "cell_type": "markdown",
   "id": "19cf06c4",
   "metadata": {},
   "source": [
    "## Creating infrastructure for the AgentCore Runtime (IAM, ECR)"
   ]
  },
  {
   "cell_type": "code",
   "execution_count": 1,
   "id": "d2e5fb6f",
   "metadata": {},
   "outputs": [
    {
     "name": "stderr",
     "output_type": "stream",
     "text": [
      "Entrypoint parsed: file=/Users/ykhvainitski/repos/bedrock-strands/ac_runtime_tutorial/strands_claude.py, bedrock_agentcore_name=strands_claude\n",
      "Configuring BedrockAgentCore agent: strands_claude_getting_started\n",
      "Generated Dockerfile: /Users/ykhvainitski/repos/bedrock-strands/ac_runtime_tutorial/Dockerfile\n",
      "Generated .dockerignore: /Users/ykhvainitski/repos/bedrock-strands/ac_runtime_tutorial/.dockerignore\n",
      "Keeping 'strands_claude_getting_started' as default agent\n",
      "Bedrock AgentCore configured: /Users/ykhvainitski/repos/bedrock-strands/ac_runtime_tutorial/.bedrock_agentcore.yaml\n"
     ]
    },
    {
     "data": {
      "text/plain": [
       "ConfigureResult(config_path=PosixPath('/Users/ykhvainitski/repos/bedrock-strands/ac_runtime_tutorial/.bedrock_agentcore.yaml'), dockerfile_path=PosixPath('/Users/ykhvainitski/repos/bedrock-strands/ac_runtime_tutorial/Dockerfile'), dockerignore_path=PosixPath('/Users/ykhvainitski/repos/bedrock-strands/ac_runtime_tutorial/.dockerignore'), runtime='Docker', region='us-east-1', account_id='538213298977', execution_role=None, ecr_repository=None, auto_create_ecr=True)"
      ]
     },
     "execution_count": 1,
     "metadata": {},
     "output_type": "execute_result"
    }
   ],
   "source": [
    "from bedrock_agentcore_starter_toolkit import Runtime\n",
    "from boto3.session import Session\n",
    "\n",
    "boto_session = Session()\n",
    "region = boto_session.region_name\n",
    "\n",
    "agentcore_runtime = Runtime()\n",
    "\n",
    "agent_name = \"strands_claude_getting_started\"\n",
    "\n",
    "response = agentcore_runtime.configure(\n",
    "    entrypoint=\"strands_claude.py\",\n",
    "    auto_create_execution_role=True,\n",
    "    auto_create_ecr=True,\n",
    "    requirements_file=\"requirements.txt\",\n",
    "    region=region,\n",
    "    agent_name=agent_name\n",
    ")\n",
    "\n",
    "response"
   ]
  },
  {
   "cell_type": "code",
   "execution_count": 2,
   "id": "16783c0c",
   "metadata": {},
   "outputs": [
    {
     "name": "stderr",
     "output_type": "stream",
     "text": [
      "🚀 CodeBuild mode: building in cloud (RECOMMENDED - DEFAULT)\n",
      "   • Build ARM64 containers in the cloud with CodeBuild\n",
      "   • No local Docker required\n",
      "💡 Available deployment modes:\n",
      "   • runtime.launch()                           → CodeBuild (current)\n",
      "   • runtime.launch(local=True)                 → Local development\n",
      "   • runtime.launch(local_build=True)           → Local build + cloud deploy (NEW)\n",
      "Starting CodeBuild ARM64 deployment for agent 'strands_claude_getting_started' to account 538213298977 (us-east-1)\n",
      "Starting CodeBuild ARM64 deployment for agent 'strands_claude_getting_started' to account 538213298977 (us-east-1)\n",
      "Setting up AWS resources (ECR repository, execution roles)...\n",
      "Getting or creating ECR repository for agent: strands_claude_getting_started\n"
     ]
    },
    {
     "name": "stdout",
     "output_type": "stream",
     "text": [
      "Repository doesn't exist, creating new ECR repository: bedrock-agentcore-strands_claude_getting_started\n"
     ]
    },
    {
     "name": "stderr",
     "output_type": "stream",
     "text": [
      "✅ ECR repository available: 538213298977.dkr.ecr.us-east-1.amazonaws.com/bedrock-agentcore-strands_claude_getting_started\n",
      "Getting or creating execution role for agent: strands_claude_getting_started\n",
      "Using AWS region: us-east-1, account ID: 538213298977\n",
      "Role name: AmazonBedrockAgentCoreSDKRuntime-us-east-1-8556fc4504\n",
      "Role doesn't exist, creating new execution role: AmazonBedrockAgentCoreSDKRuntime-us-east-1-8556fc4504\n",
      "Starting execution role creation process for agent: strands_claude_getting_started\n",
      "✓ Role creating: AmazonBedrockAgentCoreSDKRuntime-us-east-1-8556fc4504\n",
      "Creating IAM role: AmazonBedrockAgentCoreSDKRuntime-us-east-1-8556fc4504\n",
      "✓ Role created: arn:aws:iam::538213298977:role/AmazonBedrockAgentCoreSDKRuntime-us-east-1-8556fc4504\n",
      "✓ Execution policy attached: BedrockAgentCoreRuntimeExecutionPolicy-strands_claude_getting_started\n",
      "Role creation complete and ready for use with Bedrock AgentCore\n",
      "✅ Execution role available: arn:aws:iam::538213298977:role/AmazonBedrockAgentCoreSDKRuntime-us-east-1-8556fc4504\n",
      "Preparing CodeBuild project and uploading source...\n",
      "Getting or creating CodeBuild execution role for agent: strands_claude_getting_started\n",
      "Role name: AmazonBedrockAgentCoreSDKCodeBuild-us-east-1-8556fc4504\n",
      "CodeBuild role doesn't exist, creating new role: AmazonBedrockAgentCoreSDKCodeBuild-us-east-1-8556fc4504\n",
      "Creating IAM role: AmazonBedrockAgentCoreSDKCodeBuild-us-east-1-8556fc4504\n",
      "✓ Role created: arn:aws:iam::538213298977:role/AmazonBedrockAgentCoreSDKCodeBuild-us-east-1-8556fc4504\n",
      "Attaching inline policy: CodeBuildExecutionPolicy to role: AmazonBedrockAgentCoreSDKCodeBuild-us-east-1-8556fc4504\n",
      "✓ Policy attached: CodeBuildExecutionPolicy\n",
      "Waiting for IAM role propagation...\n",
      "CodeBuild execution role creation complete: arn:aws:iam::538213298977:role/AmazonBedrockAgentCoreSDKCodeBuild-us-east-1-8556fc4504\n",
      "Created S3 bucket: bedrock-agentcore-codebuild-sources-538213298977-us-east-1\n",
      "Using .dockerignore with 44 patterns\n",
      "Uploaded source to S3: strands_claude_getting_started/20250826-180013.zip\n",
      "Created CodeBuild project: bedrock-agentcore-strands_claude_getting_started-builder\n",
      "Starting CodeBuild build (this may take several minutes)...\n",
      "Starting CodeBuild monitoring...\n",
      "🔄 QUEUED started (total: 0s)\n",
      "✅ QUEUED completed in 5.2s\n",
      "🔄 PROVISIONING started (total: 5s)\n",
      "✅ PROVISIONING completed in 10.3s\n",
      "🔄 PRE_BUILD started (total: 16s)\n",
      "✅ PRE_BUILD completed in 10.3s\n",
      "🔄 BUILD started (total: 26s)\n",
      "✅ BUILD completed in 51.8s\n",
      "🔄 POST_BUILD started (total: 78s)\n",
      "✅ POST_BUILD completed in 15.5s\n",
      "🔄 COMPLETED started (total: 93s)\n",
      "✅ COMPLETED completed in 0.0s\n",
      "🎉 CodeBuild completed successfully in 1m 33s\n",
      "CodeBuild completed successfully\n",
      "✅ CodeBuild project configuration saved\n",
      "Deploying to Bedrock AgentCore...\n",
      "✅ Agent created/updated: arn:aws:bedrock-agentcore:us-east-1:538213298977:runtime/strands_claude_getting_started-83uFyhDCxq\n",
      "Polling for endpoint to be ready...\n",
      "Agent endpoint: arn:aws:bedrock-agentcore:us-east-1:538213298977:runtime/strands_claude_getting_started-83uFyhDCxq/runtime-endpoint/DEFAULT\n",
      "Deployment completed successfully - Agent: arn:aws:bedrock-agentcore:us-east-1:538213298977:runtime/strands_claude_getting_started-83uFyhDCxq\n",
      "Built with CodeBuild: bedrock-agentcore-strands_claude_getting_started-builder:33eb7781-ba6e-4442-b8e3-9f316dae601d\n",
      "Deployed to cloud: arn:aws:bedrock-agentcore:us-east-1:538213298977:runtime/strands_claude_getting_started-83uFyhDCxq\n",
      "ECR image: 538213298977.dkr.ecr.us-east-1.amazonaws.com/bedrock-agentcore-strands_claude_getting_started\n",
      "🔍 Agent logs available at:\n",
      "   /aws/bedrock-agentcore/runtimes/strands_claude_getting_started-83uFyhDCxq-DEFAULT\n",
      "   /aws/bedrock-agentcore/runtimes/strands_claude_getting_started-83uFyhDCxq-DEFAULT/runtime-logs\n",
      "💡 Tail logs with: aws logs tail /aws/bedrock-agentcore/runtimes/strands_claude_getting_started-83uFyhDCxq-DEFAULT --follow\n",
      "💡 Or view recent logs: aws logs tail /aws/bedrock-agentcore/runtimes/strands_claude_getting_started-83uFyhDCxq-DEFAULT --since 1h\n"
     ]
    }
   ],
   "source": [
    "launch_result = agentcore_runtime.launch()"
   ]
  },
  {
   "cell_type": "markdown",
   "id": "3dd09033",
   "metadata": {},
   "source": [
    "## Checking the status and make test invocations of the AgentCore Runtime"
   ]
  },
  {
   "cell_type": "code",
   "execution_count": 3,
   "id": "4a288602",
   "metadata": {},
   "outputs": [
    {
     "name": "stderr",
     "output_type": "stream",
     "text": [
      "Retrieved Bedrock AgentCore status for: strands_claude_getting_started\n"
     ]
    },
    {
     "data": {
      "text/plain": [
       "'READY'"
      ]
     },
     "execution_count": 3,
     "metadata": {},
     "output_type": "execute_result"
    }
   ],
   "source": [
    "import time\n",
    "\n",
    "status_response = agentcore_runtime.status()\n",
    "status = status_response.endpoint['status']\n",
    "\n",
    "end_status = ['READY', 'CREATE_FAILED', 'DELETE_FAILED', 'UPDATE_FAILED']\n",
    "\n",
    "while status not in end_status:\n",
    "    time.sleep(10)\n",
    "    status_response = agentcore_runtime.status()\n",
    "    status = status_response.endpoint['status']\n",
    "    print(status)\n",
    "    \n",
    "status"
   ]
  },
  {
   "cell_type": "code",
   "execution_count": 4,
   "id": "00ad3ef5",
   "metadata": {},
   "outputs": [
    {
     "name": "stderr",
     "output_type": "stream",
     "text": [
      "Invoking BedrockAgentCore agent 'strands_claude_getting_started' via cloud endpoint\n"
     ]
    },
    {
     "data": {
      "text/plain": [
       "{'ResponseMetadata': {'RequestId': 'd13620f9-ebc8-4ab6-a0cd-c1e1de3cd373',\n",
       "  'HTTPStatusCode': 200,\n",
       "  'HTTPHeaders': {'date': 'Tue, 26 Aug 2025 18:13:20 GMT',\n",
       "   'content-type': 'application/json',\n",
       "   'transfer-encoding': 'chunked',\n",
       "   'connection': 'keep-alive',\n",
       "   'x-amzn-requestid': 'd13620f9-ebc8-4ab6-a0cd-c1e1de3cd373',\n",
       "   'baggage': 'Self=1-68adf93e-1a97b86f4109f8fa5f79176c,session.id=57464fa0-d982-4434-a882-27b9f742fbe3',\n",
       "   'x-amzn-bedrock-agentcore-runtime-session-id': '57464fa0-d982-4434-a882-27b9f742fbe3',\n",
       "   'x-amzn-trace-id': 'Root=1-68adf93e-69b888ed016b62370ea3e4b5;Self=1-68adf93e-1a97b86f4109f8fa5f79176c'},\n",
       "  'RetryAttempts': 0},\n",
       " 'runtimeSessionId': '57464fa0-d982-4434-a882-27b9f742fbe3',\n",
       " 'traceId': 'Root=1-68adf93e-69b888ed016b62370ea3e4b5;Self=1-68adf93e-1a97b86f4109f8fa5f79176c',\n",
       " 'baggage': 'Self=1-68adf93e-1a97b86f4109f8fa5f79176c,session.id=57464fa0-d982-4434-a882-27b9f742fbe3',\n",
       " 'contentType': 'application/json',\n",
       " 'statusCode': 200,\n",
       " 'response': [b'{\"result\": \"The weather is sunny right now.\"}']}"
      ]
     },
     "execution_count": 4,
     "metadata": {},
     "output_type": "execute_result"
    }
   ],
   "source": [
    "invoke_response = agentcore_runtime.invoke({\"prompt\": \"How is the weather now?\"})\n",
    "\n",
    "invoke_response"
   ]
  },
  {
   "cell_type": "code",
   "execution_count": 10,
   "id": "2662582a",
   "metadata": {},
   "outputs": [
    {
     "data": {
      "text/markdown": [
       "The weather is sunny right now."
      ],
      "text/plain": [
       "<IPython.core.display.Markdown object>"
      ]
     },
     "metadata": {},
     "output_type": "display_data"
    }
   ],
   "source": [
    "from IPython.display import Markdown, display\n",
    "import json\n",
    "\n",
    "response_text = json.loads(invoke_response['response'][0].decode(\"utf-8\"))\n",
    "\n",
    "display(Markdown(response_text['result']))"
   ]
  },
  {
   "cell_type": "markdown",
   "id": "c489966b",
   "metadata": {},
   "source": [
    "## Invoking AgentCore Runtime with boto3"
   ]
  },
  {
   "cell_type": "code",
   "execution_count": 12,
   "id": "93890a50",
   "metadata": {},
   "outputs": [
    {
     "data": {
      "text/markdown": [
       "The expression '2+2' evaluates to 4."
      ],
      "text/plain": [
       "<IPython.core.display.Markdown object>"
      ]
     },
     "metadata": {},
     "output_type": "display_data"
    }
   ],
   "source": [
    "import boto3\n",
    "\n",
    "agent_arn = launch_result.agent_arn\n",
    "agentcore_client = boto3.client(\n",
    "    'bedrock-agentcore',\n",
    "    region_name=region\n",
    ")\n",
    "\n",
    "boto3_response = agentcore_client.invoke_agent_runtime(\n",
    "    agentRuntimeArn=agent_arn,\n",
    "    qualifier=\"DEFAULT\",\n",
    "    payload=json.dumps({\"prompt\": \"What is 2+2?\"})\n",
    ")\n",
    "\n",
    "if \"text/event-stream\" in boto3_response.get(\"contentType\", \"\"):\n",
    "    content = []\n",
    "    for line in boto3_response[\"response\"].iter_lines(chunk_size=1):\n",
    "        if line:\n",
    "            line = line.decode(\"utf-8\")\n",
    "            if line.startswith(\"data: \"):\n",
    "                line = line[6:]\n",
    "                print(line)\n",
    "                content.append(line)\n",
    "    display(Markdown(\"\\n\".join(content)))\n",
    "else:\n",
    "    try:\n",
    "        events = []\n",
    "        for event in boto3_response.get(\"response\", []):\n",
    "            events.append(event)\n",
    "    except Exception as e:\n",
    "        events = [f\"Error reading EventStream: {e}\"]\n",
    "\n",
    "    response = json.loads(events[0].decode(\"utf-8\"))\n",
    "    display(Markdown(response['result']))"
   ]
  },
  {
   "cell_type": "markdown",
   "id": "46326ee0",
   "metadata": {},
   "source": [
    "## Cleanup (deleting resources)"
   ]
  },
  {
   "cell_type": "code",
   "execution_count": null,
   "id": "334d0aaf",
   "metadata": {},
   "outputs": [
    {
     "ename": "AttributeError",
     "evalue": "'LaunchResult' object has no attribute 'execution_role'",
     "output_type": "error",
     "traceback": [
      "\u001b[31m---------------------------------------------------------------------------\u001b[39m",
      "\u001b[31mAttributeError\u001b[39m                            Traceback (most recent call last)",
      "\u001b[36mCell\u001b[39m\u001b[36m \u001b[39m\u001b[32mIn[19]\u001b[39m\u001b[32m, line 1\u001b[39m\n\u001b[32m----> \u001b[39m\u001b[32m1\u001b[39m launch_result.ecr_uri, launch_result.agent_id, launch_result.ecr_uri.split(\u001b[33m'\u001b[39m\u001b[33m/\u001b[39m\u001b[33m'\u001b[39m)[\u001b[32m1\u001b[39m], \u001b[43mlaunch_result\u001b[49m\u001b[43m.\u001b[49m\u001b[43mexecution_role\u001b[49m\n",
      "\u001b[36mFile \u001b[39m\u001b[32m~/repos/bedrock-strands/venv/lib/python3.13/site-packages/pydantic/main.py:991\u001b[39m, in \u001b[36mBaseModel.__getattr__\u001b[39m\u001b[34m(self, item)\u001b[39m\n\u001b[32m    988\u001b[39m     \u001b[38;5;28;01mreturn\u001b[39;00m \u001b[38;5;28msuper\u001b[39m().\u001b[34m__getattribute__\u001b[39m(item)  \u001b[38;5;66;03m# Raises AttributeError if appropriate\u001b[39;00m\n\u001b[32m    989\u001b[39m \u001b[38;5;28;01melse\u001b[39;00m:\n\u001b[32m    990\u001b[39m     \u001b[38;5;66;03m# this is the current error\u001b[39;00m\n\u001b[32m--> \u001b[39m\u001b[32m991\u001b[39m     \u001b[38;5;28;01mraise\u001b[39;00m \u001b[38;5;167;01mAttributeError\u001b[39;00m(\u001b[33mf\u001b[39m\u001b[33m'\u001b[39m\u001b[38;5;132;01m{\u001b[39;00m\u001b[38;5;28mtype\u001b[39m(\u001b[38;5;28mself\u001b[39m).\u001b[34m__name__\u001b[39m\u001b[38;5;132;01m!r}\u001b[39;00m\u001b[33m object has no attribute \u001b[39m\u001b[38;5;132;01m{\u001b[39;00mitem\u001b[38;5;132;01m!r}\u001b[39;00m\u001b[33m'\u001b[39m)\n",
      "\u001b[31mAttributeError\u001b[39m: 'LaunchResult' object has no attribute 'execution_role'"
     ]
    }
   ],
   "source": [
    "launch_result.ecr_uri, launch_result.agent_id, launch_result.ecr_uri.split('/')[1]"
   ]
  },
  {
   "cell_type": "code",
   "execution_count": null,
   "id": "0f732c4b",
   "metadata": {},
   "outputs": [],
   "source": [
    "agentcore_control_client = boto3.client(\n",
    "    'bedrock-agentcore-control',\n",
    "    region_name=region\n",
    ")\n",
    "ecr_client = boto3.client(\n",
    "    'ecr',\n",
    "    region_name=region\n",
    "    \n",
    ")\n",
    "\n",
    "runtime_delete_response = agentcore_control_client.delete_agent_runtime(\n",
    "    agentRuntimeId=launch_result.agent_id,\n",
    "    \n",
    ")\n",
    "\n",
    "response = ecr_client.delete_repository(\n",
    "    repositoryName=launch_result.ecr_uri.split('/')[1],\n",
    "    force=True\n",
    ")"
   ]
  }
 ],
 "metadata": {
  "kernelspec": {
   "display_name": "venv",
   "language": "python",
   "name": "python3"
  },
  "language_info": {
   "codemirror_mode": {
    "name": "ipython",
    "version": 3
   },
   "file_extension": ".py",
   "mimetype": "text/x-python",
   "name": "python",
   "nbconvert_exporter": "python",
   "pygments_lexer": "ipython3",
   "version": "3.13.3"
  }
 },
 "nbformat": 4,
 "nbformat_minor": 5
}
